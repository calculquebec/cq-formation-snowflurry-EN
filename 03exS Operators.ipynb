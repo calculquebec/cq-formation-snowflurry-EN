{
 "cells": [
  {
   "cell_type": "markdown",
   "id": "6d8326ca-abdc-4039-8897-c94303aab76b",
   "metadata": {},
   "source": [
    "# Problems on operators"
   ]
  },
  {
   "cell_type": "markdown",
   "id": "01679c20-3815-4978-afaa-f0679304aef5",
   "metadata": {},
   "source": [
    "## Single qubit operators"
   ]
  },
  {
   "cell_type": "markdown",
   "id": "9f77527c-1c1c-4405-a379-4032f53dd765",
   "metadata": {},
   "source": [
    "**For 2 qubits, what is the 4x4 matrix of the operator M=[0.2 0.7; 0.8 0.3] that acts on the first qubit?**"
   ]
  },
  {
   "cell_type": "code",
   "execution_count": null,
   "id": "47393e07-34b4-4b4b-ba6e-0c14d041b638",
   "metadata": {},
   "outputs": [],
   "source": [
    "M = [0.2 0.7; 0.8 0.3]"
   ]
  },
  {
   "cell_type": "code",
   "execution_count": null,
   "id": "16fc3c09-062f-4d11-a800-bfba2af7621c",
   "metadata": {},
   "outputs": [],
   "source": [
    "I = [1 0; 0 1]"
   ]
  },
  {
   "cell_type": "code",
   "execution_count": null,
   "id": "769d889e-9348-4b12-a184-a39055fba75f",
   "metadata": {},
   "outputs": [],
   "source": [
    "kron(M,I)"
   ]
  },
  {
   "cell_type": "markdown",
   "id": "3dc9cd72-98d5-4882-8109-ac3b56d4cc7d",
   "metadata": {},
   "source": [
    "**For 3 qubits, what is the 8x8 matrix of the operator M=[0.9 0.4; 0.1 0.6] that acts on the second qubit?**"
   ]
  },
  {
   "cell_type": "code",
   "execution_count": null,
   "id": "a7a9c9cd-eef6-4516-b54e-ae1afb9bf10c",
   "metadata": {},
   "outputs": [],
   "source": [
    "M = [0.9 0.4; 0.1 0.6]"
   ]
  },
  {
   "cell_type": "code",
   "execution_count": null,
   "id": "84d02019-1297-4292-bf8a-794cfb135e7a",
   "metadata": {},
   "outputs": [],
   "source": [
    "kron(I,M,I)"
   ]
  },
  {
   "cell_type": "markdown",
   "id": "07951fdb-e246-4bfb-9e5a-887042a0d19b",
   "metadata": {},
   "source": [
    "## Multi-qubit operators"
   ]
  },
  {
   "cell_type": "code",
   "execution_count": null,
   "id": "174f1307-e2cd-4c4f-9ff0-810c9482ada0",
   "metadata": {},
   "outputs": [],
   "source": [
    "M = [0.05 0 0.7 0.6; 0.45 0.5 0.2 0.25; 0.2 0.35 0.1 0; 0.3 0.15 0 0.15]"
   ]
  },
  {
   "cell_type": "markdown",
   "id": "8f3fc331-a434-4a1c-9b55-1a4068e907af",
   "metadata": {},
   "source": [
    "This is a 4x4 matrix that applies to two qubits."
   ]
  },
  {
   "cell_type": "markdown",
   "id": "9617fb74-3b11-47c7-b254-20120d6dbb2e",
   "metadata": {},
   "source": [
    "**If we have 3 qubits, what would be the operator if it is applied to the first and second qubits?**"
   ]
  },
  {
   "cell_type": "code",
   "execution_count": null,
   "id": "897fff2e-a164-4d31-8bd7-dfe31fc42b0e",
   "metadata": {},
   "outputs": [],
   "source": [
    "kron(M,I)"
   ]
  },
  {
   "cell_type": "markdown",
   "id": "9ce8f473-8214-49be-bfdb-529b6b7391d7",
   "metadata": {},
   "source": [
    "**What would be the operator if it is applied to the second and third qubits?**"
   ]
  },
  {
   "cell_type": "code",
   "execution_count": null,
   "id": "08f9a255-b477-446c-919c-a186c63ce243",
   "metadata": {},
   "outputs": [],
   "source": [
    "kron(I,M)"
   ]
  },
  {
   "cell_type": "markdown",
   "id": "65e333e5-2c76-445c-a1bf-f8fa5048b504",
   "metadata": {},
   "source": [
    "**What would be the operator if it is applied to the first and third qubits?**"
   ]
  },
  {
   "attachments": {
    "f0785620-4a95-4aa2-9a6e-7841c768d0ae.png": {
     "image/png": "[encoded data removed]"
    }
   },
   "cell_type": "markdown",
   "id": "df07deab-fa43-44a5-a88e-ee075be2f2b3",
   "metadata": {},
   "source": [
    "![image.png](attachment:f0785620-4a95-4aa2-9a6e-7841c768d0ae.png)"
   ]
  }
 ],
 "metadata": {
  "kernelspec": {
   "display_name": "Julia 1.8.1",
   "language": "julia",
   "name": "julia-1.8"
  },
  "language_info": {
   "file_extension": ".jl",
   "mimetype": "application/julia",
   "name": "julia",
   "version": "1.8.1"
  }
 },
 "nbformat": 4,
 "nbformat_minor": 5
}

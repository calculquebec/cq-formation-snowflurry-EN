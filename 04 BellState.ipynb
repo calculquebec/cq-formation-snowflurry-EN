{
 "cells": [
  {
   "cell_type": "markdown",
   "id": "6d5aabae-96d0-49ce-a017-4d7116d0abeb",
   "metadata": {},
   "source": [
    "# Bell state - entanglement"
   ]
  },
  {
   "attachments": {
    "7803b223-485d-445a-882f-111ee4dd63bd.png": {
     "image/png": "[encoded data removed]"
    }
   },
   "cell_type": "markdown",
   "id": "f3e91d98-46ed-4324-a1b1-04db193e88b8",
   "metadata": {},
   "source": [
    "![BellState.png](attachment:7803b223-485d-445a-882f-111ee4dd63bd.png)"
   ]
  },
  {
   "cell_type": "code",
   "execution_count": null,
   "id": "ca9c5c1e-b960-4e45-9424-ac7d10c5439c",
   "metadata": {},
   "outputs": [],
   "source": [
    "import Pkg"
   ]
  },
  {
   "cell_type": "code",
   "execution_count": null,
   "id": "7e7e9a94-26b7-41d2-ade2-85d626b1dcbc",
   "metadata": {},
   "outputs": [],
   "source": [
    "Pkg.add(url=\"https://github.com/SnowflurrySDK/Snowflurry.jl\", rev=\"main\")"
   ]
  },
  {
   "cell_type": "code",
   "execution_count": null,
   "id": "513f3dec-d707-4be1-8ef2-e77f0d1f34ff",
   "metadata": {},
   "outputs": [],
   "source": [
    "Pkg.add(url=\"https://github.com/SnowflurrySDK/SnowflurryPlots.jl\", rev=\"main\")"
   ]
  },
  {
   "cell_type": "code",
   "execution_count": null,
   "id": "24d37c54-1575-41e7-ac38-38c608f4b3f3",
   "metadata": {},
   "outputs": [],
   "source": [
    "using Snowflurry"
   ]
  },
  {
   "cell_type": "code",
   "execution_count": null,
   "id": "817fc09f-d781-4e7e-9ca3-4cec51b5c0a0",
   "metadata": {},
   "outputs": [],
   "source": [
    "using SnowflurryPlots"
   ]
  },
  {
   "cell_type": "code",
   "execution_count": null,
   "id": "59175385-6b71-4995-968f-1ab23dc4caa5",
   "metadata": {},
   "outputs": [],
   "source": [
    "c = QuantumCircuit(qubit_count = 2)"
   ]
  },
  {
   "cell_type": "code",
   "execution_count": null,
   "id": "b7d652d1-d728-4038-8106-80e2dec376f4",
   "metadata": {},
   "outputs": [],
   "source": [
    "push!(c, hadamard(1))"
   ]
  },
  {
   "cell_type": "code",
   "execution_count": null,
   "id": "db6d69fc-1ea9-43d9-bae4-405c97922543",
   "metadata": {},
   "outputs": [],
   "source": [
    "push!(c, control_x(1, 2))"
   ]
  },
  {
   "cell_type": "code",
   "execution_count": null,
   "id": "fd597a25-a93d-448f-b93c-919600002118",
   "metadata": {},
   "outputs": [],
   "source": [
    "ψ = simulate(c)"
   ]
  },
  {
   "cell_type": "code",
   "execution_count": null,
   "id": "d574a436-4381-4648-bf26-2c71e784138d",
   "metadata": {},
   "outputs": [],
   "source": [
    "get_measurement_probabilities(c)"
   ]
  },
  {
   "cell_type": "code",
   "execution_count": null,
   "id": "2c48bad6-0e89-4639-bc28-ae4e73629c82",
   "metadata": {},
   "outputs": [],
   "source": [
    "plot_histogram(c,1001)"
   ]
  },
  {
   "cell_type": "code",
   "execution_count": null,
   "id": "74f8883a-df20-4cb8-83ed-bb8e7fb6f357",
   "metadata": {},
   "outputs": [],
   "source": [
    "?hadamard"
   ]
  }
 ],
 "metadata": {
  "kernelspec": {
   "display_name": "Julia 1.9.1",
   "language": "julia",
   "name": "julia-1.9"
  },
  "language_info": {
   "file_extension": ".jl",
   "mimetype": "application/julia",
   "name": "julia",
   "version": "1.9.1"
  }
 },
 "nbformat": 4,
 "nbformat_minor": 5
}

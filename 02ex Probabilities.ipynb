{
 "cells": [
  {
   "cell_type": "markdown",
   "id": "1bf9390b-7c6c-44c1-9d5a-e53c4e55d580",
   "metadata": {},
   "source": [
    "# Problems on probabilistic qubits"
   ]
  },
  {
   "cell_type": "markdown",
   "id": "1e707d41-8046-4c33-9760-0fdddaecc0cc",
   "metadata": {},
   "source": [
    "**We have 2 qubits with probabilities:**"
   ]
  },
  {
   "cell_type": "code",
   "execution_count": 1,
   "id": "82e76a78-a272-4011-936a-b355f8ef3539",
   "metadata": {},
   "outputs": [
    {
     "data": {
      "text/plain": [
       "2-element Vector{Float64}:\n",
       " 0.2\n",
       " 0.8"
      ]
     },
     "execution_count": 1,
     "metadata": {},
     "output_type": "execute_result"
    }
   ],
   "source": [
    "vector_a=[0.2,0.8]"
   ]
  },
  {
   "cell_type": "code",
   "execution_count": 2,
   "id": "83826c44-5442-4409-b1b8-2926a9d55d2b",
   "metadata": {},
   "outputs": [
    {
     "data": {
      "text/plain": [
       "2-element Vector{Float64}:\n",
       " 0.6\n",
       " 0.4"
      ]
     },
     "execution_count": 2,
     "metadata": {},
     "output_type": "execute_result"
    }
   ],
   "source": [
    "vector_b=[0.6,0.4]"
   ]
  },
  {
   "cell_type": "markdown",
   "id": "9adf4334-2be1-4b10-b182-0c83f1579e38",
   "metadata": {},
   "source": [
    "**If we combine the 2 vectors, what are the probabilities for each state?**\n",
    "(The basis for the vector for state [0] = [1,0] and state [1] = [0,1], and superposition of the two states is [00], [01], [10], [00])"
   ]
  },
  {
   "cell_type": "markdown",
   "id": "d8d45d66-3540-471c-a229-529f164d2da6",
   "metadata": {},
   "source": [
    "## First task\n",
    "How do we represent vector_a and vector_b in terms of [0] and [1]?\n",
    "(The Kronecker product is distributive)"
   ]
  },
  {
   "cell_type": "markdown",
   "id": "7eb9c2c1-d181-4cc9-970b-38e4422f924d",
   "metadata": {},
   "source": [
    "## Second task\n",
    "What are the vectors representing the states [00], [01], [10], [00]?"
   ]
  },
  {
   "cell_type": "markdown",
   "id": "4c7de9cb-dbb1-4de6-9cc8-5f9c20654c3e",
   "metadata": {},
   "source": [
    "## Third task\n",
    "What are the probabilities of being in each superposition state?"
   ]
  },
  {
   "cell_type": "code",
   "execution_count": null,
   "id": "43f9d00b-3086-4130-8149-7c40da50a837",
   "metadata": {},
   "outputs": [],
   "source": []
  }
 ],
 "metadata": {
  "kernelspec": {
   "display_name": "Julia 1.9.1",
   "language": "julia",
   "name": "julia-1.9"
  },
  "language_info": {
   "file_extension": ".jl",
   "mimetype": "application/julia",
   "name": "julia",
   "version": "1.9.1"
  }
 },
 "nbformat": 4,
 "nbformat_minor": 5
}

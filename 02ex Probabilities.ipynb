{
 "cells": [
  {
   "cell_type": "markdown",
   "id": "1bf9390b-7c6c-44c1-9d5a-e53c4e55d580",
   "metadata": {},
   "source": [
    "# Problems on probabilistic qubits"
   ]
  },
  {
   "cell_type": "markdown",
   "id": "1e707d41-8046-4c33-9760-0fdddaecc0cc",
   "metadata": {},
   "source": [
    "Suppose that we have two probabilistic bits, and our probabilistic states respectively are"
   ]
  },
  {
   "cell_type": "code",
   "execution_count": null,
   "id": "82e76a78-a272-4011-936a-b355f8ef3539",
   "metadata": {},
   "outputs": [],
   "source": [
    "vector_a=[0.2,0.8]"
   ]
  },
  {
   "cell_type": "code",
   "execution_count": null,
   "id": "83826c44-5442-4409-b1b8-2926a9d55d2b",
   "metadata": {},
   "outputs": [],
   "source": [
    "vector_b=[0.6,0.4]"
   ]
  },
  {
   "cell_type": "markdown",
   "id": "9adf4334-2be1-4b10-b182-0c83f1579e38",
   "metadata": {},
   "source": [
    "**If we combine both bits as a single system, then what is the state of the combined system?**\n",
    "\n",
    "In total, we have four different states. We can name them as follows:\n",
    "<ul>\n",
    "    <li>00: both bits are in states 0</li>\n",
    "    <li>01: the first bit is in state 0 and the second bit is in state 1</li>\n",
    "    <li>10: the first bit is in state 1 and the second bit is in state 0</li>\n",
    "    <li>11: both bits are in states 1</li>\n",
    "</ul>"
   ]
  },
  {
   "cell_type": "markdown",
   "id": "7eb9c2c1-d181-4cc9-970b-38e4422f924d",
   "metadata": {},
   "source": [
    "## First task\n",
    "What are the vectors representing the states [00], [01], [10], [00]?"
   ]
  },
  {
   "cell_type": "markdown",
   "id": "4c7de9cb-dbb1-4de6-9cc8-5f9c20654c3e",
   "metadata": {},
   "source": [
    "## Second task\n",
    "What are the probabilities of being in each superposition state?"
   ]
  },
  {
   "cell_type": "code",
   "execution_count": null,
   "id": "43f9d00b-3086-4130-8149-7c40da50a837",
   "metadata": {},
   "outputs": [],
   "source": []
  }
 ],
 "metadata": {
  "kernelspec": {
   "display_name": "Julia 1.8.1",
   "language": "julia",
   "name": "julia-1.8"
  },
  "language_info": {
   "file_extension": ".jl",
   "mimetype": "application/julia",
   "name": "julia",
   "version": "1.8.1"
  }
 },
 "nbformat": 4,
 "nbformat_minor": 5
}

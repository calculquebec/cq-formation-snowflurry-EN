{
 "cells": [
  {
   "cell_type": "markdown",
   "id": "cb0c7689-621f-42f0-8568-a271b301d319",
   "metadata": {},
   "source": [
    "# Problems on probabilistic qubits"
   ]
  },
  {
   "cell_type": "markdown",
   "id": "8d088465-4c48-4a38-9828-ab69e403872a",
   "metadata": {},
   "source": [
    "Suppose that we have two probabilistic bits, and our probabilistic states respectively are"
   ]
  },
  {
   "cell_type": "code",
   "execution_count": null,
   "id": "4840c17e-7cd9-4e34-9cd8-c4f8d2c4d63b",
   "metadata": {},
   "outputs": [],
   "source": [
    "vector_a=[0.2,0.8]"
   ]
  },
  {
   "cell_type": "code",
   "execution_count": null,
   "id": "2ca043ad-a59b-4b14-a490-057bdc26b151",
   "metadata": {},
   "outputs": [],
   "source": [
    "vector_b=[0.6,0.4]"
   ]
  },
  {
   "cell_type": "markdown",
   "id": "36dd0a88-b3c2-4069-b495-42f3ba07e87e",
   "metadata": {},
   "source": [
    "**If we combine both bits as a single system, then what is the state of the combined system?**\n",
    "\n",
    "In total, we have four different states. We can name them as follows:\n",
    "<ul>\n",
    "    <li>00: both bits are in states 0</li>\n",
    "    <li>01: the first bit is in state 0 and the second bit is in state 1</li>\n",
    "    <li>10: the first bit is in state 1 and the second bit is in state 0</li>\n",
    "    <li>11: both bits are in states 1</li>\n",
    "</ul>"
   ]
  },
  {
   "cell_type": "markdown",
   "id": "d07c1caa-c114-412a-aeb4-cd16a11a738e",
   "metadata": {},
   "source": [
    "## First task\n",
    "What are the vectors representing the states [00], [01], [10], [00]?"
   ]
  },
  {
   "cell_type": "markdown",
   "id": "ad77377c-ec62-49f5-ac13-689333c240e6",
   "metadata": {
    "tags": []
   },
   "source": [
    "### Solution"
   ]
  },
  {
   "cell_type": "code",
   "execution_count": null,
   "id": "5392ed0e-e5ca-436a-a837-7dd216a251d3",
   "metadata": {},
   "outputs": [],
   "source": [
    "vector_0=[1,0]\n",
    "vector_1=[0,1]"
   ]
  },
  {
   "cell_type": "code",
   "execution_count": null,
   "id": "5eb180bf-2765-4c08-829b-9fd187494214",
   "metadata": {},
   "outputs": [],
   "source": [
    "vector_00=kron(vector_0,vector_0)"
   ]
  },
  {
   "cell_type": "code",
   "execution_count": null,
   "id": "0c575a65-aed9-4191-8574-fc1c8348f30f",
   "metadata": {},
   "outputs": [],
   "source": [
    "vector_01=kron(vector_0,vector_1)"
   ]
  },
  {
   "cell_type": "code",
   "execution_count": null,
   "id": "d0b75758-a340-4202-96da-28efeb7b3693",
   "metadata": {},
   "outputs": [],
   "source": [
    "vector_10=kron(vector_1,vector_0)"
   ]
  },
  {
   "cell_type": "code",
   "execution_count": null,
   "id": "17659daf-47da-4f3d-8413-c82c5d2ef028",
   "metadata": {},
   "outputs": [],
   "source": [
    "vector_11=kron(vector_1,vector_1)"
   ]
  },
  {
   "cell_type": "markdown",
   "id": "89bf62af-92cc-41bc-84e1-af87236363d9",
   "metadata": {},
   "source": [
    "## Second task\n",
    "What are the probabilities of being in each superposition state?"
   ]
  },
  {
   "cell_type": "code",
   "execution_count": null,
   "id": "c13da8df-cacb-4e1b-9d64-c7c952863a1d",
   "metadata": {},
   "outputs": [],
   "source": [
    "kron(vector_a,vector_b)"
   ]
  }
 ],
 "metadata": {
  "kernelspec": {
   "display_name": "Julia 1.8.1",
   "language": "julia",
   "name": "julia-1.8"
  },
  "language_info": {
   "file_extension": ".jl",
   "mimetype": "application/julia",
   "name": "julia",
   "version": "1.8.1"
  }
 },
 "nbformat": 4,
 "nbformat_minor": 5
}

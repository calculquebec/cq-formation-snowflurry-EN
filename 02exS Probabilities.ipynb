{
 "cells": [
  {
   "cell_type": "markdown",
   "id": "cb0c7689-621f-42f0-8568-a271b301d319",
   "metadata": {},
   "source": [
    "# Problems on probabilistic qubits"
   ]
  },
  {
   "cell_type": "markdown",
   "id": "9150a181-cc26-4329-9886-d32666d4dec8",
   "metadata": {},
   "source": [
    "**We have 2 qubits with probabilities:**"
   ]
  },
  {
   "cell_type": "code",
   "execution_count": 1,
   "id": "4840c17e-7cd9-4e34-9cd8-c4f8d2c4d63b",
   "metadata": {},
   "outputs": [
    {
     "data": {
      "text/plain": [
       "2-element Vector{Float64}:\n",
       " 0.2\n",
       " 0.8"
      ]
     },
     "execution_count": 1,
     "metadata": {},
     "output_type": "execute_result"
    }
   ],
   "source": [
    "vector_a=[0.2,0.8]"
   ]
  },
  {
   "cell_type": "code",
   "execution_count": 2,
   "id": "2ca043ad-a59b-4b14-a490-057bdc26b151",
   "metadata": {},
   "outputs": [
    {
     "data": {
      "text/plain": [
       "2-element Vector{Float64}:\n",
       " 0.6\n",
       " 0.4"
      ]
     },
     "execution_count": 2,
     "metadata": {},
     "output_type": "execute_result"
    }
   ],
   "source": [
    "vector_b=[0.6,0.4]"
   ]
  },
  {
   "cell_type": "markdown",
   "id": "3af9a35a-c7ac-40c3-8a15-c4912f5ddee5",
   "metadata": {},
   "source": [
    "**If we combine the 2 vectors, what are the probabilities for each state?**\n",
    "(The basis for the vector for state [0] = [1,0] and state [1] = [0,1], and superposition of the two states is [00], [01], [10], [00])"
   ]
  },
  {
   "cell_type": "markdown",
   "id": "60fc41bb-c90a-4e64-9d17-a21f738822d3",
   "metadata": {},
   "source": [
    "## First task\n",
    "How do we represent vector_a and vector_b in terms of [0] and [1]?\n",
    "(The Kronecker product is distributive)"
   ]
  },
  {
   "cell_type": "markdown",
   "id": "78c4cce9-ffad-4930-ba61-37fdcd87bf44",
   "metadata": {},
   "source": [
    "<h3>Solution</h3>\n",
    "\n",
    "$ \\big( 0.2 [0] + 0.8 [1] \\big) \\otimes  \\big( 0.6 [0] + 0.4 [1] \\big) $"
   ]
  },
  {
   "cell_type": "markdown",
   "id": "1c36d773-d4de-459d-b1c1-f76a6d515423",
   "metadata": {},
   "source": [
    "## Second task\n",
    "What are the vectors representing the states [00], [01], [10], [00]?"
   ]
  },
  {
   "cell_type": "markdown",
   "id": "ad77377c-ec62-49f5-ac13-689333c240e6",
   "metadata": {
    "tags": []
   },
   "source": [
    "### Solution"
   ]
  },
  {
   "cell_type": "code",
   "execution_count": 3,
   "id": "5392ed0e-e5ca-436a-a837-7dd216a251d3",
   "metadata": {},
   "outputs": [
    {
     "data": {
      "text/plain": [
       "2-element Vector{Int64}:\n",
       " 0\n",
       " 1"
      ]
     },
     "execution_count": 3,
     "metadata": {},
     "output_type": "execute_result"
    }
   ],
   "source": [
    "vector_0=[1,0]\n",
    "vector_1=[0,1]"
   ]
  },
  {
   "cell_type": "code",
   "execution_count": 4,
   "id": "5eb180bf-2765-4c08-829b-9fd187494214",
   "metadata": {},
   "outputs": [
    {
     "data": {
      "text/plain": [
       "4-element Vector{Int64}:\n",
       " 1\n",
       " 0\n",
       " 0\n",
       " 0"
      ]
     },
     "execution_count": 4,
     "metadata": {},
     "output_type": "execute_result"
    }
   ],
   "source": [
    "vector_00=kron(vector_0,vector_0)"
   ]
  },
  {
   "cell_type": "code",
   "execution_count": 5,
   "id": "0c575a65-aed9-4191-8574-fc1c8348f30f",
   "metadata": {},
   "outputs": [
    {
     "data": {
      "text/plain": [
       "4-element Vector{Int64}:\n",
       " 0\n",
       " 1\n",
       " 0\n",
       " 0"
      ]
     },
     "execution_count": 5,
     "metadata": {},
     "output_type": "execute_result"
    }
   ],
   "source": [
    "vector_01=kron(vector_0,vector_1)"
   ]
  },
  {
   "cell_type": "code",
   "execution_count": 6,
   "id": "d0b75758-a340-4202-96da-28efeb7b3693",
   "metadata": {},
   "outputs": [
    {
     "data": {
      "text/plain": [
       "4-element Vector{Int64}:\n",
       " 0\n",
       " 0\n",
       " 1\n",
       " 0"
      ]
     },
     "execution_count": 6,
     "metadata": {},
     "output_type": "execute_result"
    }
   ],
   "source": [
    "vector_10=kron(vector_1,vector_0)"
   ]
  },
  {
   "cell_type": "code",
   "execution_count": 7,
   "id": "17659daf-47da-4f3d-8413-c82c5d2ef028",
   "metadata": {},
   "outputs": [
    {
     "data": {
      "text/plain": [
       "4-element Vector{Int64}:\n",
       " 0\n",
       " 0\n",
       " 0\n",
       " 1"
      ]
     },
     "execution_count": 7,
     "metadata": {},
     "output_type": "execute_result"
    }
   ],
   "source": [
    "vector_11=kron(vector_1,vector_1)"
   ]
  },
  {
   "cell_type": "markdown",
   "id": "b18968be-7ee9-420e-a141-95eb73b002f7",
   "metadata": {},
   "source": [
    "## Third task\n",
    "What are the probabilities of being in each superposition state?"
   ]
  },
  {
   "cell_type": "code",
   "execution_count": 11,
   "id": "c13da8df-cacb-4e1b-9d64-c7c952863a1d",
   "metadata": {},
   "outputs": [
    {
     "data": {
      "text/plain": [
       "4-element Vector{Float64}:\n",
       " 0.12\n",
       " 0.08000000000000002\n",
       " 0.48\n",
       " 0.32000000000000006"
      ]
     },
     "execution_count": 11,
     "metadata": {},
     "output_type": "execute_result"
    }
   ],
   "source": [
    "kron(vector_a,vector_b)"
   ]
  }
 ],
 "metadata": {
  "kernelspec": {
   "display_name": "Julia 1.9.1",
   "language": "julia",
   "name": "julia-1.9"
  },
  "language_info": {
   "file_extension": ".jl",
   "mimetype": "application/julia",
   "name": "julia",
   "version": "1.9.1"
  }
 },
 "nbformat": 4,
 "nbformat_minor": 5
}

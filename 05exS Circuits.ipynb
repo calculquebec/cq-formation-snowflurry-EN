{
 "cells": [
  {
   "cell_type": "markdown",
   "id": "64024289-d4d1-4bcb-9d43-1c9b56414db6",
   "metadata": {},
   "source": [
    "# Circuit problem"
   ]
  },
  {
   "cell_type": "markdown",
   "id": "b447abf5-7de3-4fc3-b4e9-4651e4fb295e",
   "metadata": {},
   "source": [
    "## First circuit"
   ]
  },
  {
   "cell_type": "code",
   "execution_count": null,
   "id": "49bae082-1bfa-4bba-acf7-2acea5bce619",
   "metadata": {},
   "outputs": [],
   "source": [
    "using Snowflurry"
   ]
  },
  {
   "cell_type": "code",
   "execution_count": null,
   "id": "84201c7c-4d98-4176-9b18-b15e3a9bb3f8",
   "metadata": {},
   "outputs": [],
   "source": [
    "c = QuantumCircuit(qubit_count = 1)"
   ]
  },
  {
   "cell_type": "code",
   "execution_count": null,
   "id": "ce8a7e93-3da2-4205-8d8e-bb12894c98e2",
   "metadata": {},
   "outputs": [],
   "source": [
    "push!(c,sigma_x(1))"
   ]
  },
  {
   "cell_type": "code",
   "execution_count": null,
   "id": "df7affb4-afca-4872-96e0-94d9d36144e1",
   "metadata": {},
   "outputs": [],
   "source": [
    "push!(c,hadamard(1))"
   ]
  },
  {
   "cell_type": "code",
   "execution_count": null,
   "id": "a4b85cd3-4640-486a-b4a6-8eb1082da011",
   "metadata": {},
   "outputs": [],
   "source": [
    "get_measurement_probabilities(c)"
   ]
  },
  {
   "cell_type": "markdown",
   "id": "bca084f8-88f1-443c-bd28-ebbb96f5f9cb",
   "metadata": {},
   "source": [
    "## Second circuit"
   ]
  },
  {
   "cell_type": "code",
   "execution_count": null,
   "id": "9191a35e-7b5a-4c1e-a306-0176fa9b049b",
   "metadata": {},
   "outputs": [],
   "source": [
    "c = QuantumCircuit(qubit_count = 2)"
   ]
  },
  {
   "cell_type": "code",
   "execution_count": null,
   "id": "e109732f-ca67-4b26-a223-877c519f5af9",
   "metadata": {},
   "outputs": [],
   "source": [
    "push!(c,sigma_x(1))"
   ]
  },
  {
   "cell_type": "code",
   "execution_count": null,
   "id": "b934e809-e356-484f-95d5-0f1e13e07483",
   "metadata": {},
   "outputs": [],
   "source": [
    "push!(c,hadamard(1))\n",
    "push!(c,hadamard(1))"
   ]
  },
  {
   "cell_type": "code",
   "execution_count": null,
   "id": "fb4e7a09-668e-476d-9cbd-3be76611f972",
   "metadata": {},
   "outputs": [],
   "source": [
    "get_measurement_probabilities(c)"
   ]
  },
  {
   "cell_type": "code",
   "execution_count": null,
   "id": "794c5340-82a7-409d-a0b4-af3808875113",
   "metadata": {},
   "outputs": [],
   "source": []
  }
 ],
 "metadata": {
  "kernelspec": {
   "display_name": "Julia 1.8.1",
   "language": "julia",
   "name": "julia-1.8"
  },
  "language_info": {
   "file_extension": ".jl",
   "mimetype": "application/julia",
   "name": "julia",
   "version": "1.8.1"
  }
 },
 "nbformat": 4,
 "nbformat_minor": 5
}

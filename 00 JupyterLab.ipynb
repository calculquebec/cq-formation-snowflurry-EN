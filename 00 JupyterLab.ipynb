{
 "cells": [
  {
   "cell_type": "markdown",
   "id": "0a7307cf-c2d2-4a0b-bb17-f4df6906c6d8",
   "metadata": {},
   "source": [
    "# Introduction to Quantum Programming with Snowflurry\n",
    "## Calcul Québec\n",
    "\n",
    "**Instructor**: Denise Koch\n",
    "\n",
    "**Algorithms**: Vincent Brodeur"
   ]
  },
  {
   "cell_type": "markdown",
   "id": "b1e90f27-c937-43eb-a026-de2e3cefd639",
   "metadata": {},
   "source": [
    "## Jupyter Interface \n",
    "- Right side: the pages we are exploring today (for future reference)\n",
    "- Left side: view pages\n",
    "- Create an empty page: click on + on the left and on Julia\n",
    "     - rename the page by right-clicking and Rename\n",
    "- By default, the cell is for code, but you can change it to Raw or Markdown\n",
    "- Add cells to the top right of the cell\n",
    "- To execute a cell: Shift(Shift)+Enter\n",
    "\n",
    "Markdown cheatsheet: https://www.ibm.com/docs/en/watson-studio-local/1.2.3?topic=notebooks-markdown-jupyter-cheatsheet "
   ]
  },
  {
   "cell_type": "markdown",
   "id": "7345f911-510d-47bc-b7ba-aea46027bf67",
   "metadata": {},
   "source": [
    "### Save a page\n",
    "- Open the page and\n",
    "- File -> Save and Export Notebook as PDF\n",
    "- When finished with a page, you can close it"
   ]
  },
  {
   "cell_type": "code",
   "execution_count": null,
   "id": "c492c22e-d592-403e-961f-aefdf972bf37",
   "metadata": {},
   "outputs": [],
   "source": []
  }
 ],
 "metadata": {
  "kernelspec": {
   "display_name": "Python 3 (ipykernel)",
   "language": "python",
   "name": "python3"
  },
  "language_info": {
   "codemirror_mode": {
    "name": "ipython",
    "version": 3
   },
   "file_extension": ".py",
   "mimetype": "text/x-python",
   "name": "python",
   "nbconvert_exporter": "python",
   "pygments_lexer": "ipython3",
   "version": "3.10.9"
  }
 },
 "nbformat": 4,
 "nbformat_minor": 5
}

{
 "cells": [
  {
   "attachments": {
    "5c03c6f6-55f8-4d70-b6d7-d81fef775d8b.png": {
     "image/png": "[encoded data removed]"
    }
   },
   "cell_type": "markdown",
   "id": "c11e3599-c372-4dc8-acc1-c1e7fd75e2dc",
   "metadata": {},
   "source": [
    "## The circuit\n",
    "![GroverAlgo.png](attachment:5c03c6f6-55f8-4d70-b6d7-d81fef775d8b.png)\n",
    "__[Source](https://www.quantum-inspire.com/kbase/grover-algorithm/)__\n"
   ]
  },
  {
   "cell_type": "code",
   "execution_count": null,
   "id": "0e7250e3-192d-452a-8f3a-1fb79abf7294",
   "metadata": {},
   "outputs": [],
   "source": [
    "using Snowflurry"
   ]
  },
  {
   "cell_type": "code",
   "execution_count": null,
   "id": "68e1957a-e685-4d9b-9ef9-ce67313f6e83",
   "metadata": {
    "tags": []
   },
   "outputs": [],
   "source": [
    "greg = QuantumCircuit(qubit_count=3)"
   ]
  },
  {
   "cell_type": "code",
   "execution_count": null,
   "id": "a95c9281-983d-498c-9e34-8acdb9b6c812",
   "metadata": {},
   "outputs": [],
   "source": [
    "push!(greg, hadamard(1), hadamard(2), hadamard(3))"
   ]
  },
  {
   "cell_type": "code",
   "execution_count": null,
   "id": "6bb326b9-258d-4a98-8922-678ffc6413f3",
   "metadata": {},
   "outputs": [],
   "source": [
    "push!(greg, sigma_x(1), hadamard(3))"
   ]
  },
  {
   "cell_type": "code",
   "execution_count": null,
   "id": "1bbaae8d-b982-461f-96dd-a9176fc982c8",
   "metadata": {},
   "outputs": [],
   "source": [
    "push!(greg,toffoli(1,2,3))"
   ]
  },
  {
   "cell_type": "code",
   "execution_count": null,
   "id": "bf3677a7-b000-4ff2-be08-d99483c15118",
   "metadata": {},
   "outputs": [],
   "source": [
    "push!(greg, sigma_x(1), hadamard(3))"
   ]
  },
  {
   "cell_type": "code",
   "execution_count": null,
   "id": "f55f3bdc-3e65-4cb2-a0b1-bec67fe00e58",
   "metadata": {},
   "outputs": [],
   "source": [
    "push!(greg, hadamard(1), hadamard(2), hadamard(3))"
   ]
  },
  {
   "cell_type": "code",
   "execution_count": null,
   "id": "e51d97fd-6978-4c6a-a4ec-ef6b52e6991c",
   "metadata": {},
   "outputs": [],
   "source": [
    "push!(greg, sigma_x(1), sigma_x(2), sigma_x(3))"
   ]
  },
  {
   "cell_type": "code",
   "execution_count": null,
   "id": "968cfca1-076a-4b60-a423-b1d9543663a8",
   "metadata": {},
   "outputs": [],
   "source": [
    "push!(greg, hadamard(3))"
   ]
  },
  {
   "cell_type": "code",
   "execution_count": null,
   "id": "b4f36221-4d45-4cd7-a7d5-d27287a5e85b",
   "metadata": {},
   "outputs": [],
   "source": [
    "push!(greg,toffoli(1,2,3))"
   ]
  },
  {
   "cell_type": "code",
   "execution_count": null,
   "id": "85c8a10d-f266-4407-b500-6da465d4dab5",
   "metadata": {},
   "outputs": [],
   "source": [
    "push!(greg, hadamard(3))"
   ]
  },
  {
   "cell_type": "code",
   "execution_count": null,
   "id": "965b3720-50a4-468c-b793-c0c3d1677f1d",
   "metadata": {},
   "outputs": [],
   "source": [
    "push!(greg, sigma_x(1), sigma_x(2), sigma_x(3))"
   ]
  },
  {
   "cell_type": "code",
   "execution_count": null,
   "id": "548ba556-16a0-424b-a64d-e3f2dda44152",
   "metadata": {},
   "outputs": [],
   "source": [
    "push!(greg, hadamard(1), hadamard(2), hadamard(3))"
   ]
  },
  {
   "cell_type": "code",
   "execution_count": null,
   "id": "49fd28fe-082a-4713-b596-f1470abb3a41",
   "metadata": {},
   "outputs": [],
   "source": [
    "simulate(greg)"
   ]
  },
  {
   "cell_type": "code",
   "execution_count": null,
   "id": "46bbed30-5f27-4b6d-8c48-e3193fca3f26",
   "metadata": {},
   "outputs": [],
   "source": [
    "get_measurement_probabilities(greg)"
   ]
  },
  {
   "cell_type": "code",
   "execution_count": null,
   "id": "aa0a9ce1-a620-44e0-96e1-f8d810036b41",
   "metadata": {},
   "outputs": [],
   "source": []
  }
 ],
 "metadata": {
  "kernelspec": {
   "display_name": "Julia 1.8.1",
   "language": "julia",
   "name": "julia-1.8"
  },
  "language_info": {
   "file_extension": ".jl",
   "mimetype": "application/julia",
   "name": "julia",
   "version": "1.8.1"
  }
 },
 "nbformat": 4,
 "nbformat_minor": 5
}

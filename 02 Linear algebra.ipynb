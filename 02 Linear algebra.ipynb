{
 "cells": [
  {
   "cell_type": "markdown",
   "id": "04e69831-afcb-416e-bcd6-24aba4cb3964",
   "metadata": {},
   "source": [
    "# Linear algebra\n",
    "Note: indices and elements start at 1 with Julia, and not at zero like in Python or R"
   ]
  },
  {
   "cell_type": "markdown",
   "id": "6d9e1dcc-4c59-4ff4-8dce-f5293eb051bc",
   "metadata": {},
   "source": [
    "## Define vectors and matrices"
   ]
  },
  {
   "cell_type": "code",
   "execution_count": null,
   "id": "c8973cd2-15bd-4b23-83a6-a7928c1fdf3e",
   "metadata": {},
   "outputs": [],
   "source": [
    "#Define a vector (column matrix)\n",
    "col_matrix = [1,2,3,4,5,6,7,8,9,10]"
   ]
  },
  {
   "cell_type": "code",
   "execution_count": null,
   "id": "93bf3824-d7d1-457b-8228-aefcf1c40f04",
   "metadata": {},
   "outputs": [],
   "source": [
    "#Refer to an element in the matrix\n",
    "col_matrix[3]"
   ]
  },
  {
   "cell_type": "code",
   "execution_count": null,
   "id": "0d08d247-3f47-4068-a2e9-b1b3be4beb6b",
   "metadata": {},
   "outputs": [],
   "source": [
    "col_matrix[4:end] #refer to a subset of elements"
   ]
  },
  {
   "cell_type": "code",
   "execution_count": null,
   "id": "4f1f71fd-21c5-475c-8811-e0ed424a9ffc",
   "metadata": {},
   "outputs": [],
   "source": [
    "row_matrix = [1 2 3 4 5]"
   ]
  },
  {
   "cell_type": "code",
   "execution_count": null,
   "id": "04ea7c71-8e27-4f06-ba3c-aa42eb3e0fe0",
   "metadata": {},
   "outputs": [],
   "source": [
    "matrix_transpose = transpose(row_matrix)"
   ]
  },
  {
   "cell_type": "code",
   "execution_count": null,
   "id": "50415279-1e76-47e3-86ef-17009160b510",
   "metadata": {},
   "outputs": [],
   "source": [
    "Identite3 = [1 0 0; 0 1 0; 0 0 1]"
   ]
  },
  {
   "cell_type": "code",
   "execution_count": null,
   "id": "54cdd02d-2093-4f55-a41d-12146d5e955c",
   "metadata": {},
   "outputs": [],
   "source": [
    "a = rand(3,3) #command to generate random numbers"
   ]
  },
  {
   "cell_type": "code",
   "execution_count": null,
   "id": "665ac086-dfda-4f2e-9352-c62e328b9894",
   "metadata": {},
   "outputs": [],
   "source": [
    "a' #the prime generates the adjoint of a matrix (conjugated and transposed)"
   ]
  },
  {
   "cell_type": "code",
   "execution_count": null,
   "id": "58894672-8705-4dac-a667-0ac2fc105535",
   "metadata": {},
   "outputs": [],
   "source": [
    "transpose(a) #The transpose and the adjoint are the same for a matrix of real numbers"
   ]
  },
  {
   "cell_type": "markdown",
   "id": "0ba9b515-1150-4b2a-ab58-38a629fadc32",
   "metadata": {},
   "source": [
    "# Opérations on vectors and matrices"
   ]
  },
  {
   "cell_type": "code",
   "execution_count": null,
   "id": "d0e4aa8d-6008-459b-bc1b-ef4f5912f180",
   "metadata": {},
   "outputs": [],
   "source": [
    "using LinearAlgebra"
   ]
  },
  {
   "cell_type": "code",
   "execution_count": null,
   "id": "79c129b0-8548-4eb1-87c0-a27788c2e378",
   "metadata": {},
   "outputs": [],
   "source": [
    "V = [0,1,2,3,4]"
   ]
  },
  {
   "cell_type": "code",
   "execution_count": null,
   "id": "1afd6a5f-f00b-41f2-a2d2-97762779ea25",
   "metadata": {},
   "outputs": [],
   "source": [
    "norm(V) #vector magnitude"
   ]
  },
  {
   "cell_type": "code",
   "execution_count": null,
   "id": "c0b645c4-b8c7-41c9-96af-9458131f1879",
   "metadata": {},
   "outputs": [],
   "source": [
    "A = [sqrt(2)^-1 sqrt(2)^-1; 0 + 1im/sqrt(2) 0 - 1im/sqrt(2)]"
   ]
  },
  {
   "cell_type": "code",
   "execution_count": null,
   "id": "fadb249a-2d23-4fcc-bf38-04512b3a88e4",
   "metadata": {},
   "outputs": [],
   "source": [
    "tr(A) #Trace of the matrix (sum of diagonal elements)"
   ]
  },
  {
   "cell_type": "code",
   "execution_count": null,
   "id": "023521fc-ad30-40d5-8330-0a86b5b67367",
   "metadata": {},
   "outputs": [],
   "source": [
    "det(A) #Determinant of a matrix"
   ]
  },
  {
   "cell_type": "code",
   "execution_count": null,
   "id": "b925c964-042b-472c-a6a2-d1e7f0deab2a",
   "metadata": {},
   "outputs": [],
   "source": [
    "inv(A) #Inverse of a matrix"
   ]
  },
  {
   "cell_type": "code",
   "execution_count": null,
   "id": "04315d92-42e2-4b25-b686-15d339c95759",
   "metadata": {},
   "outputs": [],
   "source": [
    "A*inv(A) #Proof that the matrix is unitary\n",
    "#Multiplication of matrices or a scalar by a matrix is the symbol *"
   ]
  },
  {
   "cell_type": "code",
   "execution_count": null,
   "id": "62646d96-496f-458d-8734-a4779dba18ce",
   "metadata": {},
   "outputs": [],
   "source": [
    "A*A' #Proof that the matrix is Hermitian"
   ]
  },
  {
   "cell_type": "code",
   "execution_count": null,
   "id": "b3b421c7-d06b-44c6-8272-ffaefe9145cd",
   "metadata": {},
   "outputs": [],
   "source": [
    "dot(A,A) #Scalar product"
   ]
  },
  {
   "cell_type": "code",
   "execution_count": null,
   "id": "19673a46-be66-47ff-8674-dbab2262a245",
   "metadata": {},
   "outputs": [],
   "source": [
    "kron(a,A) #Kronecker (tensor) product"
   ]
  },
  {
   "cell_type": "markdown",
   "id": "b58e648f-3f1d-463b-a01a-9a44237ec961",
   "metadata": {},
   "source": [
    "## Eigenvalues and eigenvectors"
   ]
  },
  {
   "cell_type": "code",
   "execution_count": null,
   "id": "06a5af35-51a1-47bd-8040-7b8565f643ab",
   "metadata": {},
   "outputs": [],
   "source": [
    "E = [1 2; -1 4]"
   ]
  },
  {
   "cell_type": "code",
   "execution_count": null,
   "id": "2fda7eba-8666-4cb7-9087-b0e2776096b7",
   "metadata": {},
   "outputs": [],
   "source": [
    "eigvalue = eigvals(E)\n",
    "print(eigvalue)"
   ]
  },
  {
   "cell_type": "code",
   "execution_count": null,
   "id": "a2b07107-5d9c-4bd5-871c-43e50e06076f",
   "metadata": {},
   "outputs": [],
   "source": [
    "eigvector = eigvecs(E)\n",
    "print(eigvector)"
   ]
  },
  {
   "cell_type": "code",
   "execution_count": null,
   "id": "1ae50255-b93a-4b36-bf94-dbe15fc0ebdb",
   "metadata": {},
   "outputs": [],
   "source": [
    "E/norm(E) #normalization of a matrix (probabilities between 0 and 1)"
   ]
  }
 ],
 "metadata": {
  "kernelspec": {
   "display_name": "Julia 1.8.1",
   "language": "julia",
   "name": "julia-1.8"
  },
  "language_info": {
   "file_extension": ".jl",
   "mimetype": "application/julia",
   "name": "julia",
   "version": "1.8.1"
  }
 },
 "nbformat": 4,
 "nbformat_minor": 5
}
